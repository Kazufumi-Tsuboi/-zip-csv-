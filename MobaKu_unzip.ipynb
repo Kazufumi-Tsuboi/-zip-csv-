{
 "cells": [
  {
   "cell_type": "raw",
   "metadata": {},
   "source": [
    "モバ空で使いたいzipファイルを自動で解凍するコード\n",
    "今回は、10:00時点の滞在人口がわかるcsv(末尾_00000)を解凍\n",
    "~~にモバ空を保存したディレクトリを入れるだけで、自動解凍を行うことができます。"
   ]
  },
  {
   "cell_type": "code",
   "execution_count": null,
   "metadata": {},
   "outputs": [],
   "source": [
    "import zipfile as zp\n",
    "import glob\n",
    "\n",
    "#zipファイルがある場所を指定してリストをつくるコード\n",
    "zip_list = glob.glob('~~/DIM/*/*1000_00000.csv.zip')"
   ]
  },
  {
   "cell_type": "raw",
   "metadata": {},
   "source": [
    "~~はモバ空をダウンロードしたディレクトリを示す。\n",
    "DIMがダウンロードしたモバ空のデータ\n",
    "１つ目の*は、日付が羅列しているフォルダが入っている場所を示す\n",
    "２つ目の*1000は時刻を示す。９時のデータを解凍したい場合、*0900に変更。"
   ]
  },
  {
   "cell_type": "code",
   "execution_count": null,
   "metadata": {},
   "outputs": [],
   "source": [
    "次にループを用いて、"
   ]
  },
  {
   "cell_type": "code",
   "execution_count": null,
   "metadata": {},
   "outputs": [],
   "source": [
    "for file in zip_list:\n",
    "    infile = file\n",
    "    zip = zp.ZipFile(infile)\n",
    "    zip.extractall('~~/DIM/unzip/1000') #出力するフォルダを選択する\n",
    "    zip.close\n",
    "    print(zip)"
   ]
  }
 ],
 "metadata": {
  "kernelspec": {
   "display_name": "Python 3",
   "language": "python",
   "name": "python3"
  },
  "language_info": {
   "codemirror_mode": {
    "name": "ipython",
    "version": 3
   },
   "file_extension": ".py",
   "mimetype": "text/x-python",
   "name": "python",
   "nbconvert_exporter": "python",
   "pygments_lexer": "ipython3",
   "version": "3.8.5"
  }
 },
 "nbformat": 4,
 "nbformat_minor": 4
}
